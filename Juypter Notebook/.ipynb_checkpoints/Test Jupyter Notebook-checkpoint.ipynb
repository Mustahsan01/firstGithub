{
 "cells": [
  {
   "cell_type": "markdown",
   "metadata": {},
   "source": [
    "# Python ka chilla with #baba_aamar\n",
    "## how to use Jupyter Note Book\n",
    "### Basics of Python\n",
    "1- My first program\n",
    "2- My second program"
   ]
  },
  {
   "cell_type": "code",
   "execution_count": 1,
   "metadata": {},
   "outputs": [
    {
     "name": "stdout",
     "output_type": "stream",
     "text": [
      "5\n",
      "Hello World\n",
      "We are learning python with Aammar\n"
     ]
    }
   ],
   "source": [
    "# My_First program in Python\n",
    "\n",
    "print(2+3)\n",
    "print(\"Hello World\")\n",
    "print(\"We are learning python with Aammar\")"
   ]
  },
  {
   "cell_type": "markdown",
   "metadata": {},
   "source": [
    "**02- Operators**"
   ]
  },
  {
   "cell_type": "code",
   "execution_count": 2,
   "metadata": {},
   "outputs": [
    {
     "name": "stdout",
     "output_type": "stream",
     "text": [
      "5\n",
      "2\n",
      "3.0\n",
      "6\n",
      "1\n",
      "3\n",
      "8\n",
      "6.5\n"
     ]
    }
   ],
   "source": [
    "print(2+3)\n",
    "print(3-1)\n",
    "print(6/2)\n",
    "print(2*3)\n",
    "print(13%2)\n",
    "\n",
    "print(6//2)\n",
    "print(2**3)\n",
    "print(3**2/2*3/3+6-4)"
   ]
  },
  {
   "cell_type": "markdown",
   "metadata": {},
   "source": [
    "** *PEDMAS\n",
    "Parenthesis Exponents Division Multiply Addition Substraction\n",
    "left to right sequence for M D & A S* **"
   ]
  },
  {
   "cell_type": "markdown",
   "metadata": {
    "collapsed": true
   },
   "source": [
    "**03- Strings**"
   ]
  },
  {
   "cell_type": "code",
   "execution_count": 3,
   "metadata": {},
   "outputs": [
    {
     "name": "stdout",
     "output_type": "stream",
     "text": [
      "5\n",
      "Hello World\n",
      "We are learning python with Aammar\n",
      "test for single quote\n",
      "test for double quote\n",
      " test for triple quote\n",
      "what's up\n"
     ]
    }
   ],
   "source": [
    "print(2+3)\n",
    "print(\"Hello World\")\n",
    "print(\"We are learning python with Aammar\")\n",
    "print('test for single quote')\n",
    "print(\"test for double quote\")\n",
    "print(''' test for triple quote''')\n",
    "print(\"what's up\")"
   ]
  },
  {
   "cell_type": "markdown",
   "metadata": {},
   "source": [
    "**04_Comments**"
   ]
  },
  {
   "cell_type": "code",
   "execution_count": 4,
   "metadata": {},
   "outputs": [
    {
     "name": "stdout",
     "output_type": "stream",
     "text": [
      "how are you?\n",
      "we are learning python with aammar\n",
      "8\n"
     ]
    }
   ],
   "source": [
    "print(\"how are you?\") #press ctrl+/ to comment out\n",
    "print(\"we are learning python with aammar\") #print a string\n",
    "\n",
    "print(2+6) #print numbers"
   ]
  },
  {
   "cell_type": "markdown",
   "metadata": {},
   "source": [
    "**05_Variables**"
   ]
  },
  {
   "cell_type": "code",
   "execution_count": null,
   "metadata": {},
   "outputs": [],
   "source": [
    "fruit_basket= 8\n",
    "fruit_basket= \"mangoes\"\n",
    "\n",
    "print(type(fruit_basket))\n",
    "print(fruit_basket)"
   ]
  },
  {
   "cell_type": "markdown",
   "metadata": {},
   "source": [
    "**06_input_variables**"
   ]
  },
  {
   "cell_type": "code",
   "execution_count": null,
   "metadata": {},
   "outputs": [],
   "source": [
    "# fruit_basket=\"mangoes\"\n",
    "# print(fruit_basket)\n",
    "\n",
    "# #input function\n",
    "# fruit_basket=input(\"What is your favorite fruit? \")\n",
    "# print(fruit_basket)\n",
    "\n",
    "#input function of 2nd stage\n",
    "# name=input(\"What is your name? \")\n",
    "# greetings=\"Hello!\"\n",
    "# print(greetings, name)\n",
    "\n",
    "#another way of stage 2 function\n",
    "\n",
    "# name=input(\"What is your name? \")\n",
    "# print(\"Hello!\", name)\n",
    "\n",
    "#3rd stage input function\n",
    "\n",
    "name=input(\"What is your name? \")\n",
    "age=input(\"How old are you? \")\n",
    "greetings= \"Hello\"\n",
    "\n",
    "print(greetings,name,\"You are still young\")"
   ]
  },
  {
   "cell_type": "markdown",
   "metadata": {},
   "source": [
    "**07_Conditional_logic**"
   ]
  },
  {
   "cell_type": "code",
   "execution_count": null,
   "metadata": {
    "collapsed": true
   },
   "outputs": [],
   "source": [
    "#logical operators are either true or false or  0 or 1\n",
    "#equal to               ==\n",
    "#not equal to           !=\n",
    "#less than              <\n",
    "#greater than           >\n",
    "#less than and equal to <=\n",
    "#greater than and equal to >=\n",
    "\n",
    "print(4==4)\n",
    "print(4!=4)\n",
    "print(4>3)\n",
    "print(3>6)\n",
    "print(3<=5)\n",
    "\n",
    "#application of logical operators\n",
    "\n",
    "# hamad_age=4\n",
    "# age_at_school=5\n",
    "# print(hamad_age==age_at_school)\n",
    "\n",
    "#input function and logical operator\n",
    "\n",
    "age_at_school=5\n",
    "hamad_age=input(\"How old is hammad? \") #input function\n",
    "hamad_age=int(hamad_age)\n",
    "print(type(hamad_age))\n",
    "print(hamad_age==age_at_school) #logical operators"
   ]
  },
  {
   "cell_type": "markdown",
   "metadata": {},
   "source": [
    "**08_Type Conversion**"
   ]
  },
  {
   "cell_type": "code",
   "execution_count": null,
   "metadata": {
    "collapsed": true
   },
   "outputs": [],
   "source": [
    "# x=10            #Integer\n",
    "# y=10.2          #float\n",
    "# z=\"Hello\"       #string\n",
    "\n",
    "#implicit type conversion\n",
    "# x= x+y\n",
    "# print(x, \"Type of x is:\", type(x))\n",
    "\n",
    "#explicit type conversion\n",
    "# age=input(\"what is your age \")\n",
    "# print(age, type(float(age)))\n",
    "\n",
    "#Name\n",
    "name=input(\"what is your age \")\n",
    "print(name, type(str(name)))"
   ]
  },
  {
   "cell_type": "markdown",
   "metadata": {},
   "source": [
    "**09_if_else_elif**"
   ]
  },
  {
   "cell_type": "code",
   "execution_count": null,
   "metadata": {
    "collapsed": true
   },
   "outputs": [],
   "source": [
    "\n",
    "hamad_age= 9\n",
    "required_age_at_school=5\n",
    "#Question: can hamad go to school?\n",
    "\n",
    "if hamad_age== required_age_at_school:\n",
    "    print(\"hamad can join the school\")\n",
    "elif hamad_age>= 9:\n",
    "    print(\"hamad should join the college\")\n",
    "else:\n",
    "    print(\"hamad cannot join the school\")"
   ]
  },
  {
   "cell_type": "markdown",
   "metadata": {},
   "source": [
    "**10_functions**"
   ]
  },
  {
   "cell_type": "code",
   "execution_count": null,
   "metadata": {
    "collapsed": true
   },
   "outputs": [],
   "source": [
    "\n",
    "#defining a functions\n",
    "#1\n",
    "# def print_codanics() :\n",
    "#     print(\"We are learning with Ammar\")\n",
    "#     print(\"We are learning with Ammar\")\n",
    "#     print(\"We are learning with Ammar\")\n",
    "\n",
    "# print_codanics()\n",
    "\n",
    "#2\n",
    "# def print_codanics() :\n",
    "#     text = \"We are learning with Ammar in Codanics Youtube channel\"\n",
    "#     print(text)\n",
    "#     print(text)\n",
    "#     print(text)\n",
    "\n",
    "# print_codanics()\n",
    "\n",
    "#3\n",
    "# def print_codanics(text):\n",
    "#     print(text)\n",
    "#     print(text)\n",
    "#     print(text)\n",
    "\n",
    "# print_codanics(\"We are learning with Ammar in Codanics Youtube channel\")\n",
    "\n",
    "#defining function with if, elif and else function\n",
    "\n",
    "# def school_calculator(age):\n",
    "#     if age==5:\n",
    "#         print(\"Hamad can join the school\")\n",
    "#     elif age>5:\n",
    "#         print(\"Hamad should go to higher school\")\n",
    "#     else:\n",
    "#         print(\"Hamad is still a baby\")\n",
    "\n",
    "# school_calculator(1)\n",
    "\n",
    "#defining the functions of future\n",
    "\n",
    "def future_age(age):\n",
    "    new_age=age+20\n",
    "    return new_age\n",
    "future_age(18)\n",
    "\n",
    "future_predicted_age = future_age(18)\n",
    "print(future_predicted_age)b"
   ]
  },
  {
   "cell_type": "markdown",
   "metadata": {},
   "source": [
    "**11_Loops**"
   ]
  },
  {
   "cell_type": "code",
   "execution_count": null,
   "metadata": {
    "collapsed": true
   },
   "outputs": [],
   "source": [
    "#while loops and For loops \n",
    "    #while loops\n",
    "\n",
    "# x=0\n",
    "# while (x<=5):\n",
    "#     print(x)\n",
    "#     x=x+1\n",
    "\n",
    "# #For Loop\n",
    "\n",
    "# for x in range(5,10):\n",
    "#     print(x)\n",
    "\n",
    "#Array\n",
    "days = [\"Monday\", \"Tues\", \"Wed\", \"Thu\", \"Fri\",\"Sat\", \"Sun\"]\n",
    "\n",
    "for d in days:\n",
    "    if (d==\"Fri\"): continue #loop stops\n",
    "    print(d)"
   ]
  },
  {
   "cell_type": "markdown",
   "metadata": {},
   "source": [
    "**12_import_libraries**"
   ]
  },
  {
   "cell_type": "code",
   "execution_count": null,
   "metadata": {
    "collapsed": true
   },
   "outputs": [],
   "source": [
    "# #if you want to print the value of pi\n",
    "# import math\n",
    "# print(\"The value of Pi is\", math.pi)\n",
    "\n",
    "import statistics\n",
    "x=[150,160,170,180]\n",
    "print(statistics.median(x))\n"
   ]
  },
  {
   "cell_type": "markdown",
   "metadata": {},
   "source": [
    "**13_trouble_Shooting**"
   ]
  },
  {
   "cell_type": "code",
   "execution_count": null,
   "metadata": {
    "collapsed": true
   },
   "outputs": [],
   "source": [
    "#print(we are learning with Amar) syntax error\n",
    "\n",
    "#print(25/0) runtime error\n",
    "\n",
    "name=\"Ammar\"\n",
    "print(\"hello\"+ name)"
   ]
  }
 ],
 "metadata": {
  "kernelspec": {
   "display_name": "Python 3",
   "language": "python",
   "name": "python3"
  },
  "language_info": {
   "codemirror_mode": {
    "name": "ipython",
    "version": 3
   },
   "file_extension": ".py",
   "mimetype": "text/x-python",
   "name": "python",
   "nbconvert_exporter": "python",
   "pygments_lexer": "ipython3",
   "version": "3.6.3"
  }
 },
 "nbformat": 4,
 "nbformat_minor": 2
}
