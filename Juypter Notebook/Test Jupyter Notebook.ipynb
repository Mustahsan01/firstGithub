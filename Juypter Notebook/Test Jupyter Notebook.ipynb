{
 "cells": [
  {
   "cell_type": "markdown",
   "metadata": {},
   "source": [
    "# Python ka chilla with #baba_aamar\n",
    "## how to use Jupyter Note Book\n",
    "### Basics of Python\n",
    "1- My first program\n",
    "2- My second program"
   ]
  },
  {
   "cell_type": "code",
   "execution_count": 1,
   "metadata": {},
   "outputs": [
    {
     "name": "stdout",
     "output_type": "stream",
     "text": [
      "5\n",
      "Hello World\n",
      "We are learning python with Aammar\n"
     ]
    }
   ],
   "source": [
    "# My_First program in Python\n",
    "\n",
    "print(2+3)\n",
    "print(\"Hello World\")\n",
    "print(\"We are learning python with Aammar\")"
   ]
  },
  {
   "cell_type": "markdown",
   "metadata": {},
   "source": [
    "**02- Operators**"
   ]
  },
  {
   "cell_type": "code",
   "execution_count": 2,
   "metadata": {},
   "outputs": [
    {
     "name": "stdout",
     "output_type": "stream",
     "text": [
      "5\n",
      "2\n",
      "3.0\n",
      "6\n",
      "1\n",
      "3\n",
      "8\n",
      "6.5\n"
     ]
    }
   ],
   "source": [
    "print(2+3)\n",
    "print(3-1)\n",
    "print(6/2)\n",
    "print(2*3)\n",
    "print(13%2)\n",
    "\n",
    "print(6//2)\n",
    "print(2**3)\n",
    "print(3**2/2*3/3+6-4)"
   ]
  },
  {
   "cell_type": "markdown",
   "metadata": {},
   "source": [
    "** *PEDMAS\n",
    "Parenthesis Exponents Division Multiply Addition Substraction\n",
    "left to right sequence for M D & A S* **"
   ]
  },
  {
   "cell_type": "markdown",
   "metadata": {
    "collapsed": true
   },
   "source": [
    "**03- Strings**"
   ]
  },
  {
   "cell_type": "code",
   "execution_count": 3,
   "metadata": {},
   "outputs": [
    {
     "name": "stdout",
     "output_type": "stream",
     "text": [
      "5\n",
      "Hello World\n",
      "We are learning python with Aammar\n",
      "test for single quote\n",
      "test for double quote\n",
      " test for triple quote\n",
      "what's up\n"
     ]
    }
   ],
   "source": [
    "print(2+3)\n",
    "print(\"Hello World\")\n",
    "print(\"We are learning python with Aammar\")\n",
    "print('test for single quote')\n",
    "print(\"test for double quote\")\n",
    "print(''' test for triple quote''')\n",
    "print(\"what's up\")"
   ]
  },
  {
   "cell_type": "markdown",
   "metadata": {},
   "source": [
    "**04_Comments**"
   ]
  },
  {
   "cell_type": "code",
   "execution_count": 4,
   "metadata": {},
   "outputs": [
    {
     "name": "stdout",
     "output_type": "stream",
     "text": [
      "how are you?\n",
      "we are learning python with aammar\n",
      "8\n"
     ]
    }
   ],
   "source": [
    "print(\"how are you?\") #press ctrl+/ to comment out\n",
    "print(\"we are learning python with aammar\") #print a string\n",
    "\n",
    "print(2+6) #print numbers"
   ]
  },
  {
   "cell_type": "markdown",
   "metadata": {},
   "source": [
    " **05_Variables**"
   ]
  },
  {
   "cell_type": "code",
   "execution_count": 5,
   "metadata": {},
   "outputs": [
    {
     "name": "stdout",
     "output_type": "stream",
     "text": [
      "<class 'str'>\n",
      "mangoes\n"
     ]
    }
   ],
   "source": [
    "# #variables: objects containing specofic values\n",
    "# x=5 #numeric variable\n",
    "# print(x)\n",
    "# y=\"we are learning with aamar\" #string variable\n",
    "# print(y)\n",
    "# x= x+10\n",
    "# print(x)\n",
    "\n",
    "#type/ class of variables\n",
    "# type(x)\n",
    "# print(type(x))\n",
    "# print(type(y))\n",
    "#rules to assign a variable\n",
    "#1- The variable should contain letters, numbers, or  underscores\n",
    "#2- Do not start with numbers\n",
    "#3 Spaces are not allowed\n",
    "#4 Do not use keywords in Functions (mean, test, break etc.,)\n",
    "#5 Write short and descriptive variable names\n",
    "#6 Case sensitivity (Lowercase, uppercase letters- lower cases should be used)\n",
    "\n",
    "fruit_basket= 8\n",
    "fruit_basket= \"mangoes\"\n",
    "\n",
    "print(type(fruit_basket))\n",
    "print(fruit_basket)"
   ]
  }
 ],
 "metadata": {
  "kernelspec": {
   "display_name": "Python 3",
   "language": "python",
   "name": "python3"
  },
  "language_info": {
   "codemirror_mode": {
    "name": "ipython",
    "version": 3
   },
   "file_extension": ".py",
   "mimetype": "text/x-python",
   "name": "python",
   "nbconvert_exporter": "python",
   "pygments_lexer": "ipython3",
   "version": "3.6.3"
  }
 },
 "nbformat": 4,
 "nbformat_minor": 2
}
